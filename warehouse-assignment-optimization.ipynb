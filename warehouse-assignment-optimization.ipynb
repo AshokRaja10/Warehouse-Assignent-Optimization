{
 "cells": [
  {
   "cell_type": "code",
   "execution_count": 166,
   "metadata": {
    "papermill": {
     "duration": 0.829212,
     "end_time": "2020-10-04T22:04:36.308250",
     "exception": false,
     "start_time": "2020-10-04T22:04:35.479038",
     "status": "completed"
    },
    "tags": []
   },
   "outputs": [],
   "source": [
    "import random\n",
    "import numpy  as np\n",
    "import pandas as pd\n",
    "from scipy.spatial import distance_matrix\n",
    "from ortools.graph import pywrapgraph\n",
    "from sklearn.neighbors         import KNeighborsRegressor\n",
    "from ortools.constraint_solver import routing_enums_pb2\n",
    "from ortools.constraint_solver import pywrapcp"
   ]
  },
  {
   "cell_type": "markdown",
   "metadata": {
    "papermill": {
     "duration": 0.017687,
     "end_time": "2020-10-04T22:04:36.344012",
     "exception": false,
     "start_time": "2020-10-04T22:04:36.326325",
     "status": "completed"
    },
    "tags": []
   },
   "source": [
    "## Data Processing\n",
    "\n",
    "Extracting the data from the data file.\n",
    "#conda activate jupyterlab-debugger"
   ]
  },
  {
   "cell_type": "code",
   "execution_count": 167,
   "metadata": {
    "papermill": {
     "duration": 0.044401,
     "end_time": "2020-10-04T22:04:36.406722",
     "exception": false,
     "start_time": "2020-10-04T22:04:36.362321",
     "status": "completed"
    },
    "tags": []
   },
   "outputs": [],
   "source": [
    "#Returns a list of integer lists.\n",
    "def list_lines(file_name):\n",
    "    with open(file_name) as file:\n",
    "        lines = file.read().splitlines()\n",
    "    line_list = [[int(n) for  n in ll.split()] for ll in lines]\n",
    "    return line_list\n",
    "\n",
    "#Provides the dividing line between warehouse and order sections in the line list.\n",
    "def find_wh_lines(line_list):\n",
    "    wh_count = line_list[3][0]\n",
    "    wh_endline = (wh_count*2)+4\n",
    "    return wh_endline\n",
    "\n",
    "#Returns a 2-d array of products(rows) by warehouses(columns).\n",
    "def get_inventories(line_list):\n",
    "    wh_endline = find_wh_lines(line_list)\n",
    "    invs = line_list[5:wh_endline+1:2]\n",
    "    supply = np.array(invs).transpose()\n",
    "    return supply.astype(np.int16)\n",
    "\n",
    "#Returns a 2-d array of products(rows) by orders(columns).\n",
    "def get_orders(line_list):\n",
    "    wh_endline = find_wh_lines(line_list)\n",
    "    demand = np.zeros((line_list[1][0], line_list[wh_endline][0]),dtype=np.int16)\n",
    "    orders = line_list[wh_endline+3::3]\n",
    "    for i,ord in enumerate(orders):\n",
    "        for prod in ord:\n",
    "            demand[prod, i] += 1\n",
    "    return demand.astype(np.int16)\n",
    "\n",
    "#Returns the locations of Warehouses and the Orders.\n",
    "def get_locs(line_list):\n",
    "    wh_endline = find_wh_lines(line_list)\n",
    "    wh_locs = np.array(line_list[4:wh_endline:2])\n",
    "    cust_locs = np.array(line_list[wh_endline+1::3])\n",
    "    return wh_locs.astype(np.int16), cust_locs.astype(np.int16)"
   ]
  },
  {
   "cell_type": "code",
   "execution_count": 168,
   "metadata": {
    "papermill": {
     "duration": 0.094626,
     "end_time": "2020-10-04T22:04:36.519731",
     "exception": false,
     "start_time": "2020-10-04T22:04:36.425105",
     "status": "completed"
    },
    "tags": []
   },
   "outputs": [],
   "source": [
    "line_list = list_lines('data.txt')\n",
    "supply = get_inventories(line_list) #Item vs Qty present in each warehouse (shape: 400x10)\n",
    "demand = get_orders(line_list) #Item vs Qty required in each order (shape: 400x1250)\n",
    "warehouse_loctions, order_loctions = get_locs(line_list) #Location of warehouse and orders"
   ]
  },
  {
   "cell_type": "code",
   "execution_count": 169,
   "metadata": {
    "jupyter": {
     "source_hidden": true
    },
    "tags": []
   },
   "outputs": [
    {
     "name": "stdout",
     "output_type": "stream",
     "text": [
      "df1\n",
      "  warehouse    order feedback\n",
      "0        10   [0, 0]        1\n",
      "1        11   [2, 3]        2\n",
      "2        12   [4, 6]        3\n",
      "3        13   [6, 9]        4\n",
      "4        14  [8, 12]        5\n"
     ]
    }
   ],
   "source": [
    "#rough work\n",
    "def test():\n",
    "    assignments = []\n",
    "    for i in range(5):\n",
    "        assign = [i+10, [i*2, i*3] , i+1]\n",
    "        assignments.append(assign)\n",
    "    return np.array(assignments, dtype=object)\n",
    "\n",
    "t = test()\n",
    "df = pd.DataFrame(t, columns=['warehouse', 'order', 'feedback'])\n",
    "print(\"df1\")\n",
    "print(df)\n",
    "# lastrow = df.iloc[-1] \n",
    "# print(\"\\n last row\")\n",
    "# print(lastrow)\n",
    "# print(lastrow.warehouse)\n",
    "# df2 = df.iloc[:-1 , :]\n",
    "# print(\"\\ndf2\")\n",
    "# print(df2)\n",
    "# print(\"----\")\n",
    "# knn_regressor = KNeighborsRegressor(n_neighbors=2, weights='distance')\n",
    "# knn_regressor.fit(df2.order.values.tolist(), df2.feedback.values.tolist())\n",
    "# val = knn_regressor.predict([lastrow.order])\n",
    "# print(val[0]<4)"
   ]
  },
  {
   "cell_type": "code",
   "execution_count": 170,
   "metadata": {},
   "outputs": [],
   "source": [
    "def check_feedback_of_past_k_nearest_orders(assignments):\n",
    "    df = pd.DataFrame(assignments, columns=['warehouse', 'order', 'order_location', 'product', 'qty', 'distance', 'feedback'])\n",
    "    predict_tuple = df.iloc[-1] #Last row (recently added assignment)\n",
    "    data_df = df.iloc[:-1 , :] #Removing predict_tuple from df\n",
    "    #Filtering out the previous assignments corresponding to current warehouse under consideration\n",
    "    warehouse_filtered_df = data_df.loc[data_df.warehouse == predict_tuple.warehouse]\n",
    "    \n",
    "    #If the number of data points is less the required number of nearest neighbour then skip the warehouse penalization\n",
    "    if warehouse_filtered_df.shape[0] < 5:\n",
    "        return False\n",
    "    \n",
    "    #weights='distance' -> Close the point, Higher the influence\n",
    "    knn_regressor = KNeighborsRegressor(n_neighbors=5, weights='distance')\n",
    "    knn_regressor.fit(warehouse_filtered_df.order_location.values.tolist(), warehouse_filtered_df.feedback.values.tolist())\n",
    "    value = knn_regressor.predict([predict_tuple.order_location])\n",
    "    #if the collective feedback of the past k nearest neighbour is less than 3 then the current warehouse needs to be peanlized\n",
    "    return value[0] < 3"
   ]
  },
  {
   "cell_type": "code",
   "execution_count": 171,
   "metadata": {
    "papermill": {
     "duration": 0.113793,
     "end_time": "2020-10-04T22:04:40.601765",
     "exception": false,
     "start_time": "2020-10-04T22:04:40.487972",
     "status": "completed"
    },
    "tags": []
   },
   "outputs": [],
   "source": [
    "def assign_warehouses_to_orders(supply, warehouse_locs, demand, order_locs):\n",
    "    \"\"\" OR-tools function to assign warehouses to orders using a max-flow min-cost solver. \n",
    "        Numbering scheme is as follows:\n",
    "        warehouses = 1250 to 1259\n",
    "        orders = 0 to 1249\n",
    "    \"\"\"\n",
    "    assignments = []\n",
    "    penalize_list = []\n",
    "    count = 0\n",
    "    distances = distance_matrix(order_locs, warehouse_locs) # Order vs Warehouse Distance (shape: 1250x10)\n",
    "    start_nodes = np.repeat(np.arange(1250,1260), 1250).tolist() # eg. [1, 1, 2, 2, 3, 3]\n",
    "    end_nodes   = np.tile(np.arange(0,1250), 10).tolist()        # eg. [1, 2, 3, 1, 2, 3]\n",
    "    costs       = np.transpose(distances).ravel().astype(int).tolist() # Flattening the distance matrix \n",
    "    \n",
    "    for i in range(400):  # iterate over products\n",
    "        item_count = 0\n",
    "        capacities = np.tile(demand[i], 10).tolist()\n",
    "        supplies   = np.negative(demand[i]).tolist() + supply[i].tolist() # Concatinating demand and supplies. \n",
    "        # Demand is being negated because they represent the sink. Quantity needs to flow from source to the sink.\n",
    "        \n",
    "        # Build solver\n",
    "        min_cost_flow = pywrapgraph.SimpleMinCostFlow()\n",
    "\n",
    "        for s in range(len(start_nodes)):\n",
    "            min_cost_flow.AddArcWithCapacityAndUnitCost(start_nodes[s], end_nodes[s], capacities[s], costs[s])\n",
    "            \n",
    "        for s in range(len(supplies)):\n",
    "            min_cost_flow.SetNodeSupply(s, supplies[s])\n",
    "\n",
    "        # Optimal Warehouse for Product 'i' for 'n' Orders.\n",
    "        if min_cost_flow.SolveMaxFlowWithMinCost() == min_cost_flow.OPTIMAL:\n",
    "            for arc in range(min_cost_flow.NumArcs()):\n",
    "                if min_cost_flow.Flow(arc) > 0:\n",
    "                    warehouse = min_cost_flow.Tail(arc) - 1250\n",
    "                    order = min_cost_flow.Head(arc)\n",
    "                    order_location = order_loctions[order].tolist()\n",
    "                    product = i\n",
    "                    qty = min_cost_flow.Flow(arc)\n",
    "                    cost = min_cost_flow.UnitCost(arc)\n",
    "                    feedback = random.randint(1,5)\n",
    "                    \n",
    "                    assign = [warehouse, order, order_location, product, qty, cost, feedback]\n",
    "                    assignments.append(assign)\n",
    "                    item_count += qty\n",
    "                    \n",
    "                    if(check_feedback_of_past_k_nearest_orders(assignments)):\n",
    "                        penalize_list.append(assign)\n",
    "\n",
    "        count += item_count\n",
    "    \n",
    "    print(supply.sum(), demand.sum(), count)              \n",
    "    return np.array(assignments, dtype=object), np.array(penalize_list, dtype=object)"
   ]
  },
  {
   "cell_type": "code",
   "execution_count": 172,
   "metadata": {
    "papermill": {
     "duration": 10.160554,
     "end_time": "2020-10-04T22:04:50.844117",
     "exception": false,
     "start_time": "2020-10-04T22:04:40.683563",
     "status": "completed"
    },
    "tags": []
   },
   "outputs": [
    {
     "name": "stdout",
     "output_type": "stream",
     "text": [
      "14576 9368 9368\n",
      "CPU times: user 2min 18s, sys: 1.63 s, total: 2min 20s\n",
      "Wall time: 2min 21s\n"
     ]
    }
   ],
   "source": [
    "%%time\n",
    "assignments, penalize_list = assign_warehouses_to_orders(supply, warehouse_loctions, demand, order_loctions)\n",
    "assign_df   = pd.DataFrame(assignments,   columns=['warehouse', 'order', 'order_location', 'product','qty', 'distance', 'feedback'])\n",
    "penalize_df = pd.DataFrame(penalize_list, columns=['warehouse', 'order', 'order_location', 'product','qty', 'distance', 'feedback'])"
   ]
  },
  {
   "cell_type": "code",
   "execution_count": 173,
   "metadata": {},
   "outputs": [
    {
     "name": "stdout",
     "output_type": "stream",
     "text": [
      "(4046, 7)\n",
      "(9236, 7)\n"
     ]
    }
   ],
   "source": [
    "print(penalize_df.shape)\n",
    "print(assign_df.shape)"
   ]
  },
  {
   "cell_type": "code",
   "execution_count": null,
   "metadata": {},
   "outputs": [],
   "source": []
  }
 ],
 "metadata": {
  "kernelspec": {
   "display_name": "Python 3.8 (XPython)",
   "language": "python",
   "name": "xpython"
  },
  "language_info": {
   "file_extension": ".py",
   "mimetype": "text/x-python",
   "name": "python",
   "version": "3.8.8"
  },
  "papermill": {
   "duration": 228.170128,
   "end_time": "2020-10-04T22:08:18.209249",
   "environment_variables": {},
   "exception": null,
   "input_path": "__notebook__.ipynb",
   "output_path": "__notebook__.ipynb",
   "parameters": {},
   "start_time": "2020-10-04T22:04:30.039121",
   "version": "2.1.0"
  }
 },
 "nbformat": 4,
 "nbformat_minor": 4
}
